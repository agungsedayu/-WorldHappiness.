{
 "cells": [
  {
   "cell_type": "code",
   "execution_count": 1,
   "metadata": {},
   "outputs": [],
   "source": [
    "import numpy as np\n",
    "import pandas as pd"
   ]
  },
  {
   "cell_type": "code",
   "execution_count": 2,
   "metadata": {},
   "outputs": [
    {
     "data": {
      "text/html": [
       "<div>\n",
       "<style scoped>\n",
       "    .dataframe tbody tr th:only-of-type {\n",
       "        vertical-align: middle;\n",
       "    }\n",
       "\n",
       "    .dataframe tbody tr th {\n",
       "        vertical-align: top;\n",
       "    }\n",
       "\n",
       "    .dataframe thead th {\n",
       "        text-align: right;\n",
       "    }\n",
       "</style>\n",
       "<table border=\"1\" class=\"dataframe\">\n",
       "  <thead>\n",
       "    <tr style=\"text-align: right;\">\n",
       "      <th></th>\n",
       "      <th>Overall rank</th>\n",
       "      <th>Country or region</th>\n",
       "      <th>Score</th>\n",
       "      <th>GDP per capita</th>\n",
       "      <th>Social support</th>\n",
       "      <th>Healthy life expectancy</th>\n",
       "      <th>Freedom to make life choices</th>\n",
       "      <th>Generosity</th>\n",
       "      <th>Perceptions of corruption</th>\n",
       "    </tr>\n",
       "  </thead>\n",
       "  <tbody>\n",
       "    <tr>\n",
       "      <td>0</td>\n",
       "      <td>1</td>\n",
       "      <td>Finland</td>\n",
       "      <td>7.769</td>\n",
       "      <td>1.340</td>\n",
       "      <td>1.587</td>\n",
       "      <td>0.986</td>\n",
       "      <td>0.596</td>\n",
       "      <td>0.153</td>\n",
       "      <td>0.393</td>\n",
       "    </tr>\n",
       "    <tr>\n",
       "      <td>1</td>\n",
       "      <td>2</td>\n",
       "      <td>Denmark</td>\n",
       "      <td>7.600</td>\n",
       "      <td>1.383</td>\n",
       "      <td>1.573</td>\n",
       "      <td>0.996</td>\n",
       "      <td>0.592</td>\n",
       "      <td>0.252</td>\n",
       "      <td>0.410</td>\n",
       "    </tr>\n",
       "    <tr>\n",
       "      <td>2</td>\n",
       "      <td>3</td>\n",
       "      <td>Norway</td>\n",
       "      <td>7.554</td>\n",
       "      <td>1.488</td>\n",
       "      <td>1.582</td>\n",
       "      <td>1.028</td>\n",
       "      <td>0.603</td>\n",
       "      <td>0.271</td>\n",
       "      <td>0.341</td>\n",
       "    </tr>\n",
       "    <tr>\n",
       "      <td>3</td>\n",
       "      <td>4</td>\n",
       "      <td>Iceland</td>\n",
       "      <td>7.494</td>\n",
       "      <td>1.380</td>\n",
       "      <td>1.624</td>\n",
       "      <td>1.026</td>\n",
       "      <td>0.591</td>\n",
       "      <td>0.354</td>\n",
       "      <td>0.118</td>\n",
       "    </tr>\n",
       "    <tr>\n",
       "      <td>4</td>\n",
       "      <td>5</td>\n",
       "      <td>Netherlands</td>\n",
       "      <td>7.488</td>\n",
       "      <td>1.396</td>\n",
       "      <td>1.522</td>\n",
       "      <td>0.999</td>\n",
       "      <td>0.557</td>\n",
       "      <td>0.322</td>\n",
       "      <td>0.298</td>\n",
       "    </tr>\n",
       "    <tr>\n",
       "      <td>...</td>\n",
       "      <td>...</td>\n",
       "      <td>...</td>\n",
       "      <td>...</td>\n",
       "      <td>...</td>\n",
       "      <td>...</td>\n",
       "      <td>...</td>\n",
       "      <td>...</td>\n",
       "      <td>...</td>\n",
       "      <td>...</td>\n",
       "    </tr>\n",
       "    <tr>\n",
       "      <td>151</td>\n",
       "      <td>152</td>\n",
       "      <td>Rwanda</td>\n",
       "      <td>3.334</td>\n",
       "      <td>0.359</td>\n",
       "      <td>0.711</td>\n",
       "      <td>0.614</td>\n",
       "      <td>0.555</td>\n",
       "      <td>0.217</td>\n",
       "      <td>0.411</td>\n",
       "    </tr>\n",
       "    <tr>\n",
       "      <td>152</td>\n",
       "      <td>153</td>\n",
       "      <td>Tanzania</td>\n",
       "      <td>3.231</td>\n",
       "      <td>0.476</td>\n",
       "      <td>0.885</td>\n",
       "      <td>0.499</td>\n",
       "      <td>0.417</td>\n",
       "      <td>0.276</td>\n",
       "      <td>0.147</td>\n",
       "    </tr>\n",
       "    <tr>\n",
       "      <td>153</td>\n",
       "      <td>154</td>\n",
       "      <td>Afghanistan</td>\n",
       "      <td>3.203</td>\n",
       "      <td>0.350</td>\n",
       "      <td>0.517</td>\n",
       "      <td>0.361</td>\n",
       "      <td>0.000</td>\n",
       "      <td>0.158</td>\n",
       "      <td>0.025</td>\n",
       "    </tr>\n",
       "    <tr>\n",
       "      <td>154</td>\n",
       "      <td>155</td>\n",
       "      <td>Central African Republic</td>\n",
       "      <td>3.083</td>\n",
       "      <td>0.026</td>\n",
       "      <td>0.000</td>\n",
       "      <td>0.105</td>\n",
       "      <td>0.225</td>\n",
       "      <td>0.235</td>\n",
       "      <td>0.035</td>\n",
       "    </tr>\n",
       "    <tr>\n",
       "      <td>155</td>\n",
       "      <td>156</td>\n",
       "      <td>South Sudan</td>\n",
       "      <td>2.853</td>\n",
       "      <td>0.306</td>\n",
       "      <td>0.575</td>\n",
       "      <td>0.295</td>\n",
       "      <td>0.010</td>\n",
       "      <td>0.202</td>\n",
       "      <td>0.091</td>\n",
       "    </tr>\n",
       "  </tbody>\n",
       "</table>\n",
       "<p>156 rows × 9 columns</p>\n",
       "</div>"
      ],
      "text/plain": [
       "     Overall rank         Country or region  Score  GDP per capita  \\\n",
       "0               1                   Finland  7.769           1.340   \n",
       "1               2                   Denmark  7.600           1.383   \n",
       "2               3                    Norway  7.554           1.488   \n",
       "3               4                   Iceland  7.494           1.380   \n",
       "4               5               Netherlands  7.488           1.396   \n",
       "..            ...                       ...    ...             ...   \n",
       "151           152                    Rwanda  3.334           0.359   \n",
       "152           153                  Tanzania  3.231           0.476   \n",
       "153           154               Afghanistan  3.203           0.350   \n",
       "154           155  Central African Republic  3.083           0.026   \n",
       "155           156               South Sudan  2.853           0.306   \n",
       "\n",
       "     Social support  Healthy life expectancy  Freedom to make life choices  \\\n",
       "0             1.587                    0.986                         0.596   \n",
       "1             1.573                    0.996                         0.592   \n",
       "2             1.582                    1.028                         0.603   \n",
       "3             1.624                    1.026                         0.591   \n",
       "4             1.522                    0.999                         0.557   \n",
       "..              ...                      ...                           ...   \n",
       "151           0.711                    0.614                         0.555   \n",
       "152           0.885                    0.499                         0.417   \n",
       "153           0.517                    0.361                         0.000   \n",
       "154           0.000                    0.105                         0.225   \n",
       "155           0.575                    0.295                         0.010   \n",
       "\n",
       "     Generosity  Perceptions of corruption  \n",
       "0         0.153                      0.393  \n",
       "1         0.252                      0.410  \n",
       "2         0.271                      0.341  \n",
       "3         0.354                      0.118  \n",
       "4         0.322                      0.298  \n",
       "..          ...                        ...  \n",
       "151       0.217                      0.411  \n",
       "152       0.276                      0.147  \n",
       "153       0.158                      0.025  \n",
       "154       0.235                      0.035  \n",
       "155       0.202                      0.091  \n",
       "\n",
       "[156 rows x 9 columns]"
      ]
     },
     "execution_count": 2,
     "metadata": {},
     "output_type": "execute_result"
    }
   ],
   "source": [
    "df = pd.read_csv('2019.csv')\n",
    "df"
   ]
  },
  {
   "cell_type": "markdown",
   "metadata": {},
   "source": [
    "1. Untuk setiap numerik feature/column (kecuali column Overall Rank), hitung dan beri penjelasan (insight):\n",
    "\n",
    "    a. Mean, Median dan Modus<br>\n",
    "    b. Range, Q1, Q3 dan IQR<br>\n",
    "    c. Standard Deviasi & Variance<br>\n",
    "    d. Z-score tiap data point<br>\n",
    "    \n",
    "## 1A"
   ]
  },
  {
   "cell_type": "code",
   "execution_count": 3,
   "metadata": {},
   "outputs": [
    {
     "data": {
      "text/html": [
       "<div>\n",
       "<style scoped>\n",
       "    .dataframe tbody tr th:only-of-type {\n",
       "        vertical-align: middle;\n",
       "    }\n",
       "\n",
       "    .dataframe tbody tr th {\n",
       "        vertical-align: top;\n",
       "    }\n",
       "\n",
       "    .dataframe thead th {\n",
       "        text-align: right;\n",
       "    }\n",
       "</style>\n",
       "<table border=\"1\" class=\"dataframe\">\n",
       "  <thead>\n",
       "    <tr style=\"text-align: right;\">\n",
       "      <th></th>\n",
       "      <th>Country or region</th>\n",
       "      <th>Score</th>\n",
       "      <th>GDP per capita</th>\n",
       "      <th>Social support</th>\n",
       "      <th>Healthy life expectancy</th>\n",
       "      <th>Freedom to make life choices</th>\n",
       "      <th>Generosity</th>\n",
       "      <th>Perceptions of corruption</th>\n",
       "    </tr>\n",
       "  </thead>\n",
       "  <tbody>\n",
       "    <tr>\n",
       "      <td>0</td>\n",
       "      <td>Finland</td>\n",
       "      <td>7.769</td>\n",
       "      <td>1.340</td>\n",
       "      <td>1.587</td>\n",
       "      <td>0.986</td>\n",
       "      <td>0.596</td>\n",
       "      <td>0.153</td>\n",
       "      <td>0.393</td>\n",
       "    </tr>\n",
       "    <tr>\n",
       "      <td>1</td>\n",
       "      <td>Denmark</td>\n",
       "      <td>7.600</td>\n",
       "      <td>1.383</td>\n",
       "      <td>1.573</td>\n",
       "      <td>0.996</td>\n",
       "      <td>0.592</td>\n",
       "      <td>0.252</td>\n",
       "      <td>0.410</td>\n",
       "    </tr>\n",
       "    <tr>\n",
       "      <td>2</td>\n",
       "      <td>Norway</td>\n",
       "      <td>7.554</td>\n",
       "      <td>1.488</td>\n",
       "      <td>1.582</td>\n",
       "      <td>1.028</td>\n",
       "      <td>0.603</td>\n",
       "      <td>0.271</td>\n",
       "      <td>0.341</td>\n",
       "    </tr>\n",
       "    <tr>\n",
       "      <td>3</td>\n",
       "      <td>Iceland</td>\n",
       "      <td>7.494</td>\n",
       "      <td>1.380</td>\n",
       "      <td>1.624</td>\n",
       "      <td>1.026</td>\n",
       "      <td>0.591</td>\n",
       "      <td>0.354</td>\n",
       "      <td>0.118</td>\n",
       "    </tr>\n",
       "    <tr>\n",
       "      <td>4</td>\n",
       "      <td>Netherlands</td>\n",
       "      <td>7.488</td>\n",
       "      <td>1.396</td>\n",
       "      <td>1.522</td>\n",
       "      <td>0.999</td>\n",
       "      <td>0.557</td>\n",
       "      <td>0.322</td>\n",
       "      <td>0.298</td>\n",
       "    </tr>\n",
       "    <tr>\n",
       "      <td>...</td>\n",
       "      <td>...</td>\n",
       "      <td>...</td>\n",
       "      <td>...</td>\n",
       "      <td>...</td>\n",
       "      <td>...</td>\n",
       "      <td>...</td>\n",
       "      <td>...</td>\n",
       "      <td>...</td>\n",
       "    </tr>\n",
       "    <tr>\n",
       "      <td>151</td>\n",
       "      <td>Rwanda</td>\n",
       "      <td>3.334</td>\n",
       "      <td>0.359</td>\n",
       "      <td>0.711</td>\n",
       "      <td>0.614</td>\n",
       "      <td>0.555</td>\n",
       "      <td>0.217</td>\n",
       "      <td>0.411</td>\n",
       "    </tr>\n",
       "    <tr>\n",
       "      <td>152</td>\n",
       "      <td>Tanzania</td>\n",
       "      <td>3.231</td>\n",
       "      <td>0.476</td>\n",
       "      <td>0.885</td>\n",
       "      <td>0.499</td>\n",
       "      <td>0.417</td>\n",
       "      <td>0.276</td>\n",
       "      <td>0.147</td>\n",
       "    </tr>\n",
       "    <tr>\n",
       "      <td>153</td>\n",
       "      <td>Afghanistan</td>\n",
       "      <td>3.203</td>\n",
       "      <td>0.350</td>\n",
       "      <td>0.517</td>\n",
       "      <td>0.361</td>\n",
       "      <td>0.000</td>\n",
       "      <td>0.158</td>\n",
       "      <td>0.025</td>\n",
       "    </tr>\n",
       "    <tr>\n",
       "      <td>154</td>\n",
       "      <td>Central African Republic</td>\n",
       "      <td>3.083</td>\n",
       "      <td>0.026</td>\n",
       "      <td>0.000</td>\n",
       "      <td>0.105</td>\n",
       "      <td>0.225</td>\n",
       "      <td>0.235</td>\n",
       "      <td>0.035</td>\n",
       "    </tr>\n",
       "    <tr>\n",
       "      <td>155</td>\n",
       "      <td>South Sudan</td>\n",
       "      <td>2.853</td>\n",
       "      <td>0.306</td>\n",
       "      <td>0.575</td>\n",
       "      <td>0.295</td>\n",
       "      <td>0.010</td>\n",
       "      <td>0.202</td>\n",
       "      <td>0.091</td>\n",
       "    </tr>\n",
       "  </tbody>\n",
       "</table>\n",
       "<p>156 rows × 8 columns</p>\n",
       "</div>"
      ],
      "text/plain": [
       "            Country or region  Score  GDP per capita  Social support  \\\n",
       "0                     Finland  7.769           1.340           1.587   \n",
       "1                     Denmark  7.600           1.383           1.573   \n",
       "2                      Norway  7.554           1.488           1.582   \n",
       "3                     Iceland  7.494           1.380           1.624   \n",
       "4                 Netherlands  7.488           1.396           1.522   \n",
       "..                        ...    ...             ...             ...   \n",
       "151                    Rwanda  3.334           0.359           0.711   \n",
       "152                  Tanzania  3.231           0.476           0.885   \n",
       "153               Afghanistan  3.203           0.350           0.517   \n",
       "154  Central African Republic  3.083           0.026           0.000   \n",
       "155               South Sudan  2.853           0.306           0.575   \n",
       "\n",
       "     Healthy life expectancy  Freedom to make life choices  Generosity  \\\n",
       "0                      0.986                         0.596       0.153   \n",
       "1                      0.996                         0.592       0.252   \n",
       "2                      1.028                         0.603       0.271   \n",
       "3                      1.026                         0.591       0.354   \n",
       "4                      0.999                         0.557       0.322   \n",
       "..                       ...                           ...         ...   \n",
       "151                    0.614                         0.555       0.217   \n",
       "152                    0.499                         0.417       0.276   \n",
       "153                    0.361                         0.000       0.158   \n",
       "154                    0.105                         0.225       0.235   \n",
       "155                    0.295                         0.010       0.202   \n",
       "\n",
       "     Perceptions of corruption  \n",
       "0                        0.393  \n",
       "1                        0.410  \n",
       "2                        0.341  \n",
       "3                        0.118  \n",
       "4                        0.298  \n",
       "..                         ...  \n",
       "151                      0.411  \n",
       "152                      0.147  \n",
       "153                      0.025  \n",
       "154                      0.035  \n",
       "155                      0.091  \n",
       "\n",
       "[156 rows x 8 columns]"
      ]
     },
     "execution_count": 3,
     "metadata": {},
     "output_type": "execute_result"
    }
   ],
   "source": [
    "dfstat = df.loc[:, df.columns != 'Overall rank']\n",
    "dfstat"
   ]
  },
  {
   "cell_type": "markdown",
   "metadata": {},
   "source": [
    "### Mean"
   ]
  },
  {
   "cell_type": "code",
   "execution_count": 4,
   "metadata": {},
   "outputs": [
    {
     "data": {
      "text/plain": [
       "Score                           5.407096\n",
       "GDP per capita                  0.905147\n",
       "Social support                  1.208814\n",
       "Healthy life expectancy         0.725244\n",
       "Freedom to make life choices    0.392571\n",
       "Generosity                      0.184846\n",
       "Perceptions of corruption       0.110603\n",
       "dtype: float64"
      ]
     },
     "execution_count": 4,
     "metadata": {},
     "output_type": "execute_result"
    }
   ],
   "source": [
    "dfstat.mean()"
   ]
  },
  {
   "cell_type": "markdown",
   "metadata": {},
   "source": [
    "- dari social suport dapat kita lihat jika diatas rata2 sudah dipastikan negara itu adalah negara yang bahagia\n",
    "- rata2 "
   ]
  },
  {
   "cell_type": "markdown",
   "metadata": {},
   "source": [
    "### Modus"
   ]
  },
  {
   "cell_type": "code",
   "execution_count": 5,
   "metadata": {},
   "outputs": [
    {
     "data": {
      "text/html": [
       "<div>\n",
       "<style scoped>\n",
       "    .dataframe tbody tr th:only-of-type {\n",
       "        vertical-align: middle;\n",
       "    }\n",
       "\n",
       "    .dataframe tbody tr th {\n",
       "        vertical-align: top;\n",
       "    }\n",
       "\n",
       "    .dataframe thead th {\n",
       "        text-align: right;\n",
       "    }\n",
       "</style>\n",
       "<table border=\"1\" class=\"dataframe\">\n",
       "  <thead>\n",
       "    <tr style=\"text-align: right;\">\n",
       "      <th></th>\n",
       "      <th>Score</th>\n",
       "      <th>GDP per capita</th>\n",
       "      <th>Social support</th>\n",
       "      <th>Healthy life expectancy</th>\n",
       "      <th>Freedom to make life choices</th>\n",
       "      <th>Generosity</th>\n",
       "      <th>Perceptions of corruption</th>\n",
       "    </tr>\n",
       "  </thead>\n",
       "  <tbody>\n",
       "    <tr>\n",
       "      <td>0</td>\n",
       "      <td>5.208</td>\n",
       "      <td>0.96</td>\n",
       "      <td>1.465</td>\n",
       "      <td>0.815</td>\n",
       "      <td>0.498</td>\n",
       "      <td>0.153</td>\n",
       "      <td>0.028</td>\n",
       "    </tr>\n",
       "    <tr>\n",
       "      <td>1</td>\n",
       "      <td>NaN</td>\n",
       "      <td>NaN</td>\n",
       "      <td>NaN</td>\n",
       "      <td>0.999</td>\n",
       "      <td>0.508</td>\n",
       "      <td>NaN</td>\n",
       "      <td>0.078</td>\n",
       "    </tr>\n",
       "    <tr>\n",
       "      <td>2</td>\n",
       "      <td>NaN</td>\n",
       "      <td>NaN</td>\n",
       "      <td>NaN</td>\n",
       "      <td>NaN</td>\n",
       "      <td>0.557</td>\n",
       "      <td>NaN</td>\n",
       "      <td>0.089</td>\n",
       "    </tr>\n",
       "  </tbody>\n",
       "</table>\n",
       "</div>"
      ],
      "text/plain": [
       "   Score  GDP per capita  Social support  Healthy life expectancy  \\\n",
       "0  5.208            0.96           1.465                    0.815   \n",
       "1    NaN             NaN             NaN                    0.999   \n",
       "2    NaN             NaN             NaN                      NaN   \n",
       "\n",
       "   Freedom to make life choices  Generosity  Perceptions of corruption  \n",
       "0                         0.498       0.153                      0.028  \n",
       "1                         0.508         NaN                      0.078  \n",
       "2                         0.557         NaN                      0.089  "
      ]
     },
     "execution_count": 5,
     "metadata": {},
     "output_type": "execute_result"
    }
   ],
   "source": [
    "dfstat.mode(numeric_only=True)"
   ]
  },
  {
   "cell_type": "markdown",
   "metadata": {},
   "source": [
    "- rata2 tingkat kebahagiaan negara didunia adalah tinggi dapat kita lihat modus dari score"
   ]
  },
  {
   "cell_type": "markdown",
   "metadata": {},
   "source": [
    "### Median"
   ]
  },
  {
   "cell_type": "code",
   "execution_count": 6,
   "metadata": {},
   "outputs": [
    {
     "data": {
      "text/plain": [
       "Score                           5.3795\n",
       "GDP per capita                  0.9600\n",
       "Social support                  1.2715\n",
       "Healthy life expectancy         0.7890\n",
       "Freedom to make life choices    0.4170\n",
       "Generosity                      0.1775\n",
       "Perceptions of corruption       0.0855\n",
       "dtype: float64"
      ]
     },
     "execution_count": 6,
     "metadata": {},
     "output_type": "execute_result"
    }
   ],
   "source": [
    "dfstat.median()"
   ]
  },
  {
   "cell_type": "markdown",
   "metadata": {},
   "source": [
    "- penjelasa"
   ]
  },
  {
   "cell_type": "markdown",
   "metadata": {},
   "source": [
    "## 1B\n",
    "\n",
    "### Q1 & Q3"
   ]
  },
  {
   "cell_type": "code",
   "execution_count": 7,
   "metadata": {},
   "outputs": [
    {
     "data": {
      "text/html": [
       "<div>\n",
       "<style scoped>\n",
       "    .dataframe tbody tr th:only-of-type {\n",
       "        vertical-align: middle;\n",
       "    }\n",
       "\n",
       "    .dataframe tbody tr th {\n",
       "        vertical-align: top;\n",
       "    }\n",
       "\n",
       "    .dataframe thead th {\n",
       "        text-align: right;\n",
       "    }\n",
       "</style>\n",
       "<table border=\"1\" class=\"dataframe\">\n",
       "  <thead>\n",
       "    <tr style=\"text-align: right;\">\n",
       "      <th></th>\n",
       "      <th>Score</th>\n",
       "      <th>GDP per capita</th>\n",
       "      <th>Social support</th>\n",
       "      <th>Healthy life expectancy</th>\n",
       "      <th>Freedom to make life choices</th>\n",
       "      <th>Generosity</th>\n",
       "      <th>Perceptions of corruption</th>\n",
       "    </tr>\n",
       "  </thead>\n",
       "  <tbody>\n",
       "    <tr>\n",
       "      <td>0.25</td>\n",
       "      <td>4.5445</td>\n",
       "      <td>0.60275</td>\n",
       "      <td>1.05575</td>\n",
       "      <td>0.54775</td>\n",
       "      <td>0.30800</td>\n",
       "      <td>0.10875</td>\n",
       "      <td>0.04700</td>\n",
       "    </tr>\n",
       "    <tr>\n",
       "      <td>0.75</td>\n",
       "      <td>6.1845</td>\n",
       "      <td>1.23250</td>\n",
       "      <td>1.45250</td>\n",
       "      <td>0.88175</td>\n",
       "      <td>0.50725</td>\n",
       "      <td>0.24825</td>\n",
       "      <td>0.14125</td>\n",
       "    </tr>\n",
       "  </tbody>\n",
       "</table>\n",
       "</div>"
      ],
      "text/plain": [
       "       Score  GDP per capita  Social support  Healthy life expectancy  \\\n",
       "0.25  4.5445         0.60275         1.05575                  0.54775   \n",
       "0.75  6.1845         1.23250         1.45250                  0.88175   \n",
       "\n",
       "      Freedom to make life choices  Generosity  Perceptions of corruption  \n",
       "0.25                       0.30800     0.10875                    0.04700  \n",
       "0.75                       0.50725     0.24825                    0.14125  "
      ]
     },
     "execution_count": 7,
     "metadata": {},
     "output_type": "execute_result"
    }
   ],
   "source": [
    "dfstat.quantile([.25, .75]) "
   ]
  },
  {
   "cell_type": "markdown",
   "metadata": {},
   "source": [
    "### IQR"
   ]
  },
  {
   "cell_type": "code",
   "execution_count": 8,
   "metadata": {},
   "outputs": [],
   "source": [
    "Q1 = dfstat.quantile(0.25)\n",
    "Q3 = dfstat.quantile(0.75)\n",
    "IQR = Q3 - Q1"
   ]
  },
  {
   "cell_type": "code",
   "execution_count": 9,
   "metadata": {},
   "outputs": [
    {
     "data": {
      "text/plain": [
       "Score                           1.64000\n",
       "GDP per capita                  0.62975\n",
       "Social support                  0.39675\n",
       "Healthy life expectancy         0.33400\n",
       "Freedom to make life choices    0.19925\n",
       "Generosity                      0.13950\n",
       "Perceptions of corruption       0.09425\n",
       "dtype: float64"
      ]
     },
     "execution_count": 9,
     "metadata": {},
     "output_type": "execute_result"
    }
   ],
   "source": [
    "IQR"
   ]
  },
  {
   "cell_type": "markdown",
   "metadata": {},
   "source": [
    "### Range"
   ]
  },
  {
   "cell_type": "code",
   "execution_count": 10,
   "metadata": {},
   "outputs": [
    {
     "data": {
      "text/plain": [
       "Score                           4.916\n",
       "GDP per capita                  1.684\n",
       "Social support                  1.624\n",
       "Healthy life expectancy         1.141\n",
       "Freedom to make life choices    0.631\n",
       "Generosity                      0.566\n",
       "Perceptions of corruption       0.453\n",
       "dtype: float64"
      ]
     },
     "execution_count": 10,
     "metadata": {},
     "output_type": "execute_result"
    }
   ],
   "source": [
    "x = dfstat.select_dtypes(include=[np.number])\n",
    "range = x.max() - x.min()\n",
    "range"
   ]
  },
  {
   "cell_type": "markdown",
   "metadata": {},
   "source": [
    "## 1C\n",
    "\n",
    "### Standard Deviation"
   ]
  },
  {
   "cell_type": "code",
   "execution_count": 11,
   "metadata": {},
   "outputs": [
    {
     "data": {
      "text/plain": [
       "Score                           1.113120\n",
       "GDP per capita                  0.398389\n",
       "Social support                  0.299191\n",
       "Healthy life expectancy         0.242124\n",
       "Freedom to make life choices    0.143289\n",
       "Generosity                      0.095254\n",
       "Perceptions of corruption       0.094538\n",
       "dtype: float64"
      ]
     },
     "execution_count": 11,
     "metadata": {},
     "output_type": "execute_result"
    }
   ],
   "source": [
    "dfstat.std()"
   ]
  },
  {
   "cell_type": "markdown",
   "metadata": {},
   "source": [
    "### Variances"
   ]
  },
  {
   "cell_type": "code",
   "execution_count": 12,
   "metadata": {},
   "outputs": [
    {
     "data": {
      "text/plain": [
       "Score                           1.239036\n",
       "GDP per capita                  0.158714\n",
       "Social support                  0.089515\n",
       "Healthy life expectancy         0.058624\n",
       "Freedom to make life choices    0.020532\n",
       "Generosity                      0.009073\n",
       "Perceptions of corruption       0.008937\n",
       "dtype: float64"
      ]
     },
     "execution_count": 12,
     "metadata": {},
     "output_type": "execute_result"
    }
   ],
   "source": [
    "dfstat.var()"
   ]
  },
  {
   "cell_type": "markdown",
   "metadata": {},
   "source": [
    "### Z-Score of each data"
   ]
  },
  {
   "cell_type": "code",
   "execution_count": 13,
   "metadata": {},
   "outputs": [
    {
     "data": {
      "text/html": [
       "<div>\n",
       "<style scoped>\n",
       "    .dataframe tbody tr th:only-of-type {\n",
       "        vertical-align: middle;\n",
       "    }\n",
       "\n",
       "    .dataframe tbody tr th {\n",
       "        vertical-align: top;\n",
       "    }\n",
       "\n",
       "    .dataframe thead th {\n",
       "        text-align: right;\n",
       "    }\n",
       "</style>\n",
       "<table border=\"1\" class=\"dataframe\">\n",
       "  <thead>\n",
       "    <tr style=\"text-align: right;\">\n",
       "      <th></th>\n",
       "      <th>Score</th>\n",
       "      <th>GDP per capita</th>\n",
       "      <th>Social support</th>\n",
       "      <th>Healthy life expectancy</th>\n",
       "      <th>Freedom to make life choices</th>\n",
       "      <th>Generosity</th>\n",
       "      <th>Perceptions of corruption</th>\n",
       "    </tr>\n",
       "  </thead>\n",
       "  <tbody>\n",
       "    <tr>\n",
       "      <td>0</td>\n",
       "      <td>2.128711</td>\n",
       "      <td>1.095042</td>\n",
       "      <td>1.268098</td>\n",
       "      <td>1.080422</td>\n",
       "      <td>1.424282</td>\n",
       "      <td>0.335404</td>\n",
       "      <td>2.996757</td>\n",
       "    </tr>\n",
       "    <tr>\n",
       "      <td>1</td>\n",
       "      <td>1.976397</td>\n",
       "      <td>1.203324</td>\n",
       "      <td>1.221154</td>\n",
       "      <td>1.121857</td>\n",
       "      <td>1.396277</td>\n",
       "      <td>0.707265</td>\n",
       "      <td>3.177158</td>\n",
       "    </tr>\n",
       "    <tr>\n",
       "      <td>2</td>\n",
       "      <td>1.934938</td>\n",
       "      <td>1.467734</td>\n",
       "      <td>1.251332</td>\n",
       "      <td>1.254446</td>\n",
       "      <td>1.473292</td>\n",
       "      <td>0.907373</td>\n",
       "      <td>2.444941</td>\n",
       "    </tr>\n",
       "    <tr>\n",
       "      <td>3</td>\n",
       "      <td>1.880862</td>\n",
       "      <td>1.195769</td>\n",
       "      <td>1.392163</td>\n",
       "      <td>1.246159</td>\n",
       "      <td>1.389276</td>\n",
       "      <td>1.781530</td>\n",
       "      <td>0.078500</td>\n",
       "    </tr>\n",
       "    <tr>\n",
       "      <td>4</td>\n",
       "      <td>1.875454</td>\n",
       "      <td>1.236060</td>\n",
       "      <td>1.050146</td>\n",
       "      <td>1.134287</td>\n",
       "      <td>1.151229</td>\n",
       "      <td>1.444506</td>\n",
       "      <td>1.988632</td>\n",
       "    </tr>\n",
       "    <tr>\n",
       "      <td>...</td>\n",
       "      <td>...</td>\n",
       "      <td>...</td>\n",
       "      <td>...</td>\n",
       "      <td>...</td>\n",
       "      <td>...</td>\n",
       "      <td>...</td>\n",
       "      <td>...</td>\n",
       "    </tr>\n",
       "    <tr>\n",
       "      <td>151</td>\n",
       "      <td>1.868418</td>\n",
       "      <td>1.375303</td>\n",
       "      <td>1.669224</td>\n",
       "      <td>0.460929</td>\n",
       "      <td>1.137227</td>\n",
       "      <td>0.338645</td>\n",
       "      <td>3.187770</td>\n",
       "    </tr>\n",
       "    <tr>\n",
       "      <td>152</td>\n",
       "      <td>1.961248</td>\n",
       "      <td>1.080675</td>\n",
       "      <td>1.085783</td>\n",
       "      <td>0.937421</td>\n",
       "      <td>0.171040</td>\n",
       "      <td>0.960033</td>\n",
       "      <td>0.386244</td>\n",
       "    </tr>\n",
       "    <tr>\n",
       "      <td>153</td>\n",
       "      <td>1.986484</td>\n",
       "      <td>1.397967</td>\n",
       "      <td>2.319726</td>\n",
       "      <td>1.509213</td>\n",
       "      <td>2.748526</td>\n",
       "      <td>0.282744</td>\n",
       "      <td>0.908401</td>\n",
       "    </tr>\n",
       "    <tr>\n",
       "      <td>154</td>\n",
       "      <td>2.094636</td>\n",
       "      <td>2.213861</td>\n",
       "      <td>4.053282</td>\n",
       "      <td>2.569928</td>\n",
       "      <td>1.173221</td>\n",
       "      <td>0.528221</td>\n",
       "      <td>0.802283</td>\n",
       "    </tr>\n",
       "    <tr>\n",
       "      <td>155</td>\n",
       "      <td>2.301928</td>\n",
       "      <td>1.508767</td>\n",
       "      <td>2.125246</td>\n",
       "      <td>1.782678</td>\n",
       "      <td>2.678512</td>\n",
       "      <td>0.180664</td>\n",
       "      <td>0.208019</td>\n",
       "    </tr>\n",
       "  </tbody>\n",
       "</table>\n",
       "<p>156 rows × 7 columns</p>\n",
       "</div>"
      ],
      "text/plain": [
       "        Score  GDP per capita  Social support  Healthy life expectancy  \\\n",
       "0    2.128711        1.095042        1.268098                 1.080422   \n",
       "1    1.976397        1.203324        1.221154                 1.121857   \n",
       "2    1.934938        1.467734        1.251332                 1.254446   \n",
       "3    1.880862        1.195769        1.392163                 1.246159   \n",
       "4    1.875454        1.236060        1.050146                 1.134287   \n",
       "..        ...             ...             ...                      ...   \n",
       "151  1.868418        1.375303        1.669224                 0.460929   \n",
       "152  1.961248        1.080675        1.085783                 0.937421   \n",
       "153  1.986484        1.397967        2.319726                 1.509213   \n",
       "154  2.094636        2.213861        4.053282                 2.569928   \n",
       "155  2.301928        1.508767        2.125246                 1.782678   \n",
       "\n",
       "     Freedom to make life choices  Generosity  Perceptions of corruption  \n",
       "0                        1.424282    0.335404                   2.996757  \n",
       "1                        1.396277    0.707265                   3.177158  \n",
       "2                        1.473292    0.907373                   2.444941  \n",
       "3                        1.389276    1.781530                   0.078500  \n",
       "4                        1.151229    1.444506                   1.988632  \n",
       "..                            ...         ...                        ...  \n",
       "151                      1.137227    0.338645                   3.187770  \n",
       "152                      0.171040    0.960033                   0.386244  \n",
       "153                      2.748526    0.282744                   0.908401  \n",
       "154                      1.173221    0.528221                   0.802283  \n",
       "155                      2.678512    0.180664                   0.208019  \n",
       "\n",
       "[156 rows x 7 columns]"
      ]
     },
     "execution_count": 13,
     "metadata": {},
     "output_type": "execute_result"
    }
   ],
   "source": [
    "from scipy.stats import zscore\n",
    "df_zscore = np.abs(dfstat.drop('Country or region', axis = 1).apply(zscore))\n",
    "df_zscore"
   ]
  },
  {
   "cell_type": "markdown",
   "metadata": {},
   "source": [
    "2. Untuk setiap numerik feature/column (kecuali column Overall Rank), carilah data outlier-nya dan beri penjelasan (insight) berdasarkan:\n",
    "\n",
    "    a. IQR method\n",
    "    b. Z-score method\n",
    "    \n",
    "## 2A\n",
    "\n",
    "### IQR"
   ]
  },
  {
   "cell_type": "code",
   "execution_count": 14,
   "metadata": {},
   "outputs": [
    {
     "data": {
      "text/html": [
       "<div>\n",
       "<style scoped>\n",
       "    .dataframe tbody tr th:only-of-type {\n",
       "        vertical-align: middle;\n",
       "    }\n",
       "\n",
       "    .dataframe tbody tr th {\n",
       "        vertical-align: top;\n",
       "    }\n",
       "\n",
       "    .dataframe thead th {\n",
       "        text-align: right;\n",
       "    }\n",
       "</style>\n",
       "<table border=\"1\" class=\"dataframe\">\n",
       "  <thead>\n",
       "    <tr style=\"text-align: right;\">\n",
       "      <th></th>\n",
       "      <th>Score</th>\n",
       "      <th>GDP per capita</th>\n",
       "      <th>Social support</th>\n",
       "      <th>Healthy life expectancy</th>\n",
       "      <th>Freedom to make life choices</th>\n",
       "      <th>Generosity</th>\n",
       "      <th>Perceptions of corruption</th>\n",
       "    </tr>\n",
       "  </thead>\n",
       "  <tbody>\n",
       "    <tr>\n",
       "      <td>0</td>\n",
       "      <td>7.769</td>\n",
       "      <td>1.340</td>\n",
       "      <td>1.587</td>\n",
       "      <td>0.986</td>\n",
       "      <td>0.596</td>\n",
       "      <td>0.153</td>\n",
       "      <td>0.393</td>\n",
       "    </tr>\n",
       "    <tr>\n",
       "      <td>1</td>\n",
       "      <td>7.600</td>\n",
       "      <td>1.383</td>\n",
       "      <td>1.573</td>\n",
       "      <td>0.996</td>\n",
       "      <td>0.592</td>\n",
       "      <td>0.252</td>\n",
       "      <td>0.410</td>\n",
       "    </tr>\n",
       "    <tr>\n",
       "      <td>2</td>\n",
       "      <td>7.554</td>\n",
       "      <td>1.488</td>\n",
       "      <td>1.582</td>\n",
       "      <td>1.028</td>\n",
       "      <td>0.603</td>\n",
       "      <td>0.271</td>\n",
       "      <td>0.341</td>\n",
       "    </tr>\n",
       "    <tr>\n",
       "      <td>3</td>\n",
       "      <td>7.494</td>\n",
       "      <td>1.380</td>\n",
       "      <td>1.624</td>\n",
       "      <td>1.026</td>\n",
       "      <td>0.591</td>\n",
       "      <td>0.354</td>\n",
       "      <td>0.118</td>\n",
       "    </tr>\n",
       "    <tr>\n",
       "      <td>4</td>\n",
       "      <td>7.488</td>\n",
       "      <td>1.396</td>\n",
       "      <td>1.522</td>\n",
       "      <td>0.999</td>\n",
       "      <td>0.557</td>\n",
       "      <td>0.322</td>\n",
       "      <td>0.298</td>\n",
       "    </tr>\n",
       "    <tr>\n",
       "      <td>...</td>\n",
       "      <td>...</td>\n",
       "      <td>...</td>\n",
       "      <td>...</td>\n",
       "      <td>...</td>\n",
       "      <td>...</td>\n",
       "      <td>...</td>\n",
       "      <td>...</td>\n",
       "    </tr>\n",
       "    <tr>\n",
       "      <td>151</td>\n",
       "      <td>3.334</td>\n",
       "      <td>0.359</td>\n",
       "      <td>0.711</td>\n",
       "      <td>0.614</td>\n",
       "      <td>0.555</td>\n",
       "      <td>0.217</td>\n",
       "      <td>0.411</td>\n",
       "    </tr>\n",
       "    <tr>\n",
       "      <td>152</td>\n",
       "      <td>3.231</td>\n",
       "      <td>0.476</td>\n",
       "      <td>0.885</td>\n",
       "      <td>0.499</td>\n",
       "      <td>0.417</td>\n",
       "      <td>0.276</td>\n",
       "      <td>0.147</td>\n",
       "    </tr>\n",
       "    <tr>\n",
       "      <td>153</td>\n",
       "      <td>3.203</td>\n",
       "      <td>0.350</td>\n",
       "      <td>0.517</td>\n",
       "      <td>0.361</td>\n",
       "      <td>0.000</td>\n",
       "      <td>0.158</td>\n",
       "      <td>0.025</td>\n",
       "    </tr>\n",
       "    <tr>\n",
       "      <td>154</td>\n",
       "      <td>3.083</td>\n",
       "      <td>0.026</td>\n",
       "      <td>0.000</td>\n",
       "      <td>0.105</td>\n",
       "      <td>0.225</td>\n",
       "      <td>0.235</td>\n",
       "      <td>0.035</td>\n",
       "    </tr>\n",
       "    <tr>\n",
       "      <td>155</td>\n",
       "      <td>2.853</td>\n",
       "      <td>0.306</td>\n",
       "      <td>0.575</td>\n",
       "      <td>0.295</td>\n",
       "      <td>0.010</td>\n",
       "      <td>0.202</td>\n",
       "      <td>0.091</td>\n",
       "    </tr>\n",
       "  </tbody>\n",
       "</table>\n",
       "<p>156 rows × 7 columns</p>\n",
       "</div>"
      ],
      "text/plain": [
       "     Score  GDP per capita  Social support  Healthy life expectancy  \\\n",
       "0    7.769           1.340           1.587                    0.986   \n",
       "1    7.600           1.383           1.573                    0.996   \n",
       "2    7.554           1.488           1.582                    1.028   \n",
       "3    7.494           1.380           1.624                    1.026   \n",
       "4    7.488           1.396           1.522                    0.999   \n",
       "..     ...             ...             ...                      ...   \n",
       "151  3.334           0.359           0.711                    0.614   \n",
       "152  3.231           0.476           0.885                    0.499   \n",
       "153  3.203           0.350           0.517                    0.361   \n",
       "154  3.083           0.026           0.000                    0.105   \n",
       "155  2.853           0.306           0.575                    0.295   \n",
       "\n",
       "     Freedom to make life choices  Generosity  Perceptions of corruption  \n",
       "0                           0.596       0.153                      0.393  \n",
       "1                           0.592       0.252                      0.410  \n",
       "2                           0.603       0.271                      0.341  \n",
       "3                           0.591       0.354                      0.118  \n",
       "4                           0.557       0.322                      0.298  \n",
       "..                            ...         ...                        ...  \n",
       "151                         0.555       0.217                      0.411  \n",
       "152                         0.417       0.276                      0.147  \n",
       "153                         0.000       0.158                      0.025  \n",
       "154                         0.225       0.235                      0.035  \n",
       "155                         0.010       0.202                      0.091  \n",
       "\n",
       "[156 rows x 7 columns]"
      ]
     },
     "execution_count": 14,
     "metadata": {},
     "output_type": "execute_result"
    }
   ],
   "source": [
    "dfnum = df[['Score', 'GDP per capita', 'Social support', 'Healthy life expectancy', 'Freedom to make life choices', 'Generosity', 'Perceptions of corruption']]\n",
    "dfnum"
   ]
  },
  {
   "cell_type": "code",
   "execution_count": 15,
   "metadata": {},
   "outputs": [
    {
     "data": {
      "text/plain": [
       "Score                            0\n",
       "GDP per capita                   0\n",
       "Social support                   4\n",
       "Healthy life expectancy          1\n",
       "Freedom to make life choices     1\n",
       "Generosity                       2\n",
       "Perceptions of corruption       14\n",
       "dtype: int64"
      ]
     },
     "execution_count": 15,
     "metadata": {},
     "output_type": "execute_result"
    }
   ],
   "source": [
    "((dfnum < (Q1 - 1.5 * IQR)) | (dfnum > (Q3 + 1.5 * IQR))).sum()"
   ]
  },
  {
   "cell_type": "code",
   "execution_count": 16,
   "metadata": {},
   "outputs": [
    {
     "data": {
      "text/html": [
       "<div>\n",
       "<style scoped>\n",
       "    .dataframe tbody tr th:only-of-type {\n",
       "        vertical-align: middle;\n",
       "    }\n",
       "\n",
       "    .dataframe tbody tr th {\n",
       "        vertical-align: top;\n",
       "    }\n",
       "\n",
       "    .dataframe thead th {\n",
       "        text-align: right;\n",
       "    }\n",
       "</style>\n",
       "<table border=\"1\" class=\"dataframe\">\n",
       "  <thead>\n",
       "    <tr style=\"text-align: right;\">\n",
       "      <th></th>\n",
       "      <th>count</th>\n",
       "      <th>mean</th>\n",
       "      <th>std</th>\n",
       "      <th>min</th>\n",
       "      <th>25%</th>\n",
       "      <th>50%</th>\n",
       "      <th>75%</th>\n",
       "      <th>max</th>\n",
       "    </tr>\n",
       "  </thead>\n",
       "  <tbody>\n",
       "    <tr>\n",
       "      <td>Score</td>\n",
       "      <td>156.0</td>\n",
       "      <td>5.407096</td>\n",
       "      <td>1.113120</td>\n",
       "      <td>2.853</td>\n",
       "      <td>4.54450</td>\n",
       "      <td>5.3795</td>\n",
       "      <td>6.18450</td>\n",
       "      <td>7.769</td>\n",
       "    </tr>\n",
       "    <tr>\n",
       "      <td>GDP per capita</td>\n",
       "      <td>156.0</td>\n",
       "      <td>0.905147</td>\n",
       "      <td>0.398389</td>\n",
       "      <td>0.000</td>\n",
       "      <td>0.60275</td>\n",
       "      <td>0.9600</td>\n",
       "      <td>1.23250</td>\n",
       "      <td>1.684</td>\n",
       "    </tr>\n",
       "    <tr>\n",
       "      <td>Social support</td>\n",
       "      <td>156.0</td>\n",
       "      <td>1.208814</td>\n",
       "      <td>0.299191</td>\n",
       "      <td>0.000</td>\n",
       "      <td>1.05575</td>\n",
       "      <td>1.2715</td>\n",
       "      <td>1.45250</td>\n",
       "      <td>1.624</td>\n",
       "    </tr>\n",
       "    <tr>\n",
       "      <td>Healthy life expectancy</td>\n",
       "      <td>156.0</td>\n",
       "      <td>0.725244</td>\n",
       "      <td>0.242124</td>\n",
       "      <td>0.000</td>\n",
       "      <td>0.54775</td>\n",
       "      <td>0.7890</td>\n",
       "      <td>0.88175</td>\n",
       "      <td>1.141</td>\n",
       "    </tr>\n",
       "    <tr>\n",
       "      <td>Freedom to make life choices</td>\n",
       "      <td>156.0</td>\n",
       "      <td>0.392571</td>\n",
       "      <td>0.143289</td>\n",
       "      <td>0.000</td>\n",
       "      <td>0.30800</td>\n",
       "      <td>0.4170</td>\n",
       "      <td>0.50725</td>\n",
       "      <td>0.631</td>\n",
       "    </tr>\n",
       "    <tr>\n",
       "      <td>Generosity</td>\n",
       "      <td>156.0</td>\n",
       "      <td>0.184846</td>\n",
       "      <td>0.095254</td>\n",
       "      <td>0.000</td>\n",
       "      <td>0.10875</td>\n",
       "      <td>0.1775</td>\n",
       "      <td>0.24825</td>\n",
       "      <td>0.566</td>\n",
       "    </tr>\n",
       "    <tr>\n",
       "      <td>Perceptions of corruption</td>\n",
       "      <td>156.0</td>\n",
       "      <td>0.110603</td>\n",
       "      <td>0.094538</td>\n",
       "      <td>0.000</td>\n",
       "      <td>0.04700</td>\n",
       "      <td>0.0855</td>\n",
       "      <td>0.14125</td>\n",
       "      <td>0.453</td>\n",
       "    </tr>\n",
       "  </tbody>\n",
       "</table>\n",
       "</div>"
      ],
      "text/plain": [
       "                              count      mean       std    min      25%  \\\n",
       "Score                         156.0  5.407096  1.113120  2.853  4.54450   \n",
       "GDP per capita                156.0  0.905147  0.398389  0.000  0.60275   \n",
       "Social support                156.0  1.208814  0.299191  0.000  1.05575   \n",
       "Healthy life expectancy       156.0  0.725244  0.242124  0.000  0.54775   \n",
       "Freedom to make life choices  156.0  0.392571  0.143289  0.000  0.30800   \n",
       "Generosity                    156.0  0.184846  0.095254  0.000  0.10875   \n",
       "Perceptions of corruption     156.0  0.110603  0.094538  0.000  0.04700   \n",
       "\n",
       "                                 50%      75%    max  \n",
       "Score                         5.3795  6.18450  7.769  \n",
       "GDP per capita                0.9600  1.23250  1.684  \n",
       "Social support                1.2715  1.45250  1.624  \n",
       "Healthy life expectancy       0.7890  0.88175  1.141  \n",
       "Freedom to make life choices  0.4170  0.50725  0.631  \n",
       "Generosity                    0.1775  0.24825  0.566  \n",
       "Perceptions of corruption     0.0855  0.14125  0.453  "
      ]
     },
     "execution_count": 16,
     "metadata": {},
     "output_type": "execute_result"
    }
   ],
   "source": [
    "dfIQR = df.describe().transpose().drop(index='Overall rank')\n",
    "dfIQR"
   ]
  },
  {
   "cell_type": "code",
   "execution_count": 17,
   "metadata": {},
   "outputs": [],
   "source": [
    "iqr = dfIQR['75%'] - dfIQR['25%']\n",
    "batas_bawah = dfIQR['25%'] - (1.5 * iqr)\n",
    "batas_atas = dfIQR['75%'] + (1.5 * iqr)\n",
    "\n",
    "outlier_Socialsp = [i for i in df['Social support'] if i < batas_bawah['Social support'].item() or i > batas_atas['Social support'].item()]\n",
    "outlier_HLE = [i for i in df['Healthy life expectancy'] if i < batas_bawah['Healthy life expectancy'].item() or i > batas_atas['Healthy life expectancy'].item()]\n",
    "outlier_freedom = [i for i in df['Freedom to make life choices'] if i < batas_bawah['Freedom to make life choices'].item() or i > batas_atas['Freedom to make life choices'].item()]\n",
    "outlier_Generosity = [i for i in df['Generosity'] if i < batas_bawah['Generosity'].item() or i > batas_atas['Generosity'].item()]\n",
    "outlier_poc = [i for i in df['Perceptions of corruption'] if i < batas_bawah['Perceptions of corruption'].item() or i > batas_atas['Perceptions of corruption'].item()]\n"
   ]
  },
  {
   "cell_type": "code",
   "execution_count": 18,
   "metadata": {},
   "outputs": [
    {
     "name": "stdout",
     "output_type": "stream",
     "text": [
      "outlier Social Support:  [0.43700000000000006, 0.447, 0.37799999999999995, 0.0]\n",
      "outlier Health lif expectacy:  [0.0]\n",
      "outlier Freedom to make life choices:  [0.0]\n",
      "outlier Generosity:  [0.498, 0.5660000000000001]\n",
      "outlier Perceptions of corruption:  [0.39299999999999996, 0.41, 0.341, 0.298, 0.34299999999999997, 0.373, 0.38, 0.308, 0.29, 0.316, 0.31, 0.45299999999999996, 0.287, 0.41100000000000003]\n"
     ]
    }
   ],
   "source": [
    "print('outlier Social Support: ', outlier_Socialsp)\n",
    "print('outlier Health lif expectacy: ', outlier_HLE)\n",
    "print('outlier Freedom to make life choices: ', outlier_freedom)\n",
    "print('outlier Generosity: ', outlier_Generosity)\n",
    "print('outlier Perceptions of corruption: ', outlier_poc)"
   ]
  },
  {
   "cell_type": "markdown",
   "metadata": {},
   "source": [
    "- outlier yang kita dapt kebanyakan ada di kolom Perception of corruption\n",
    "- bisa kita bilang outlier yang kita temuakan masih tergolong sedikit jadi tidak begitu mempengaruhi proses selanjutnya jika kita ingin memperdalam proses EDA atau berkanjut ke ML"
   ]
  },
  {
   "cell_type": "markdown",
   "metadata": {},
   "source": [
    "### Z-Score"
   ]
  },
  {
   "cell_type": "code",
   "execution_count": 19,
   "metadata": {},
   "outputs": [
    {
     "name": "stdout",
     "output_type": "stream",
     "text": [
      "(array([  1,  33,  91, 130, 134, 151, 154], dtype=int64), array([6, 6, 5, 5, 3, 6, 2], dtype=int64))\n"
     ]
    }
   ],
   "source": [
    "from scipy import stats\n",
    "\n",
    "z = np.abs(stats.zscore(dfnum))\n",
    "threshold = 3\n",
    "print(np.where(z > 3))"
   ]
  },
  {
   "cell_type": "code",
   "execution_count": 20,
   "metadata": {},
   "outputs": [
    {
     "name": "stdout",
     "output_type": "stream",
     "text": [
      "3.1771584379533078\n",
      "3.6334676659281038\n",
      "3.298139111352411\n",
      "4.0143157201550475\n",
      "3.0049864066750187\n",
      "3.187770280464351\n",
      "4.0532823835124905\n"
     ]
    }
   ],
   "source": [
    "print(z[1][6])\n",
    "print(z[33][6])\n",
    "print(z[91][5])\n",
    "print(z[130][5])\n",
    "print(z[134][3])\n",
    "print(z[151][6])\n",
    "print(z[154][2])\n"
   ]
  },
  {
   "cell_type": "markdown",
   "metadata": {},
   "source": [
    "- z[1][6] = 1 adalah index dan 6 adalah kolom yang dimana 6 adalah generosity\n",
    "- bisa kita lihat outlier yang kita dapat dari metode z score lebih sedikit dibandingkan dengan menggunakan metode IQR dan yang\n",
    "- paling banyak adanya outlier adalah di kolom 6 yaitu generosity"
   ]
  },
  {
   "cell_type": "markdown",
   "metadata": {},
   "source": [
    "3. Tampilkan distribusi (sebaran data) masing-masing feature/column (kecuali column Overall Rank) dalam bentuk plot yang tepat! Jelaskan alasan pemilihan plot dan insight apa yang Anda dapatkan di setiap plot tersebut!"
   ]
  },
  {
   "cell_type": "code",
   "execution_count": 21,
   "metadata": {},
   "outputs": [
    {
     "data": {
      "image/png": "[encoded data removed]",
      "text/plain": [
       "<Figure size 1440x360 with 4 Axes>"
      ]
     },
     "metadata": {
      "needs_background": "light"
     },
     "output_type": "display_data"
    }
   ],
   "source": [
    "import seaborn as sns\n",
    "import matplotlib.pyplot as plt\n",
    "%matplotlib inline\n",
    "\n",
    "plt.figure(2, figsize = (20,5))\n",
    "n = 0\n",
    "for x in ['Score', 'GDP per capita', 'Social support', 'Healthy life expectancy']:\n",
    "    n += 1\n",
    "    plt.subplot(1, 5, n)\n",
    "    plt.subplots_adjust(hspace = 0.5, wspace = 0.5)\n",
    "    sns.distplot(dfnum[x], bins = 20)\n",
    "    plt.title(' {}'.format(x))\n",
    "plt.show()"
   ]
  },
  {
   "cell_type": "code",
   "execution_count": 22,
   "metadata": {},
   "outputs": [
    {
     "data": {
      "image/png": "[encoded data removed]",
      "text/plain": [
       "<Figure size 1440x360 with 3 Axes>"
      ]
     },
     "metadata": {
      "needs_background": "light"
     },
     "output_type": "display_data"
    }
   ],
   "source": [
    "plt.figure(2, figsize = (20,5))\n",
    "n = 0\n",
    "for x in ['Freedom to make life choices', 'Generosity', 'Perceptions of corruption']:\n",
    "    n += 1\n",
    "    plt.subplot(1, 5, n)\n",
    "    plt.subplots_adjust(hspace = 0.5, wspace = 0.5)\n",
    "    sns.distplot(dfnum[x], bins = 20)\n",
    "    plt.title(' {}'.format(x))"
   ]
  },
  {
   "cell_type": "markdown",
   "metadata": {},
   "source": [
    "Kita lihat semua fitur yang mendekati berdistribusi normal kecuali perception of corutption yang masiih banyak outliernya"
   ]
  },
  {
   "cell_type": "markdown",
   "metadata": {},
   "source": [
    "5. Visualisasikan dalam bentuk plot yang tepat untuk menampilkan data berikut:\n",
    "\n",
    "    a. 10 Negara dengan Healthy life expectancy tertinggi.<br>\n",
    "    b. 10 Negara dengan GDP per capita tertinggi.<br>\n",
    "    c. 10 Negara dengan Perceptions of corruption tertinggi."
   ]
  },
  {
   "cell_type": "code",
   "execution_count": 23,
   "metadata": {},
   "outputs": [],
   "source": [
    "top10hle = df.nlargest(10, 'Healthy life expectancy')\n",
    "top10gdp = df.nlargest(10, 'GDP per capita')\n",
    "top10korup = df.nlargest(10, 'Perceptions of corruption')"
   ]
  },
  {
   "cell_type": "code",
   "execution_count": 24,
   "metadata": {},
   "outputs": [
    {
     "data": {
      "image/png": "[encoded data removed]",
      "text/plain": [
       "<Figure size 1080x720 with 1 Axes>"
      ]
     },
     "metadata": {
      "needs_background": "light"
     },
     "output_type": "display_data"
    }
   ],
   "source": [
    "plt.figure(figsize = (15,10))\n",
    "\n",
    "top_hle = sns.barplot(x = 'Country or region', y = 'Healthy life expectancy', data = top10hle)\n",
    "top_hle.set_title('10 Negara dengan Healthy life expectancy tertinggi', fontsize = 15)\n",
    "plt.show()"
   ]
  },
  {
   "cell_type": "code",
   "execution_count": 25,
   "metadata": {},
   "outputs": [
    {
     "data": {
      "image/png": "[encoded data removed]",
      "text/plain": [
       "<Figure size 1080x720 with 1 Axes>"
      ]
     },
     "metadata": {
      "needs_background": "light"
     },
     "output_type": "display_data"
    }
   ],
   "source": [
    "plt.figure(figsize = (15,10))\n",
    "\n",
    "top_gdp = sns.barplot(x = 'Country or region', y = 'GDP per capita', data = top10gdp)\n",
    "top_gdp.set_title('10 Negara dengan GDP per capita tertinggi', fontsize = 15)\n",
    "plt.show()"
   ]
  },
  {
   "cell_type": "code",
   "execution_count": 26,
   "metadata": {},
   "outputs": [
    {
     "data": {
      "image/png": "[encoded data removed]",
      "text/plain": [
       "<Figure size 1080x720 with 1 Axes>"
      ]
     },
     "metadata": {
      "needs_background": "light"
     },
     "output_type": "display_data"
    }
   ],
   "source": [
    "plt.figure(figsize = (15,10))\n",
    "\n",
    "top_korup = sns.barplot(x = 'Country or region', y = 'Perceptions of corruption', data = top10korup)\n",
    "top_korup.set_title('10 Negara dengan Perceptions of corruption tertinggi', fontsize = 15)\n",
    "plt.show()"
   ]
  },
  {
   "cell_type": "markdown",
   "metadata": {},
   "source": [
    "4. Di antara semua numerik feature/column (kecuali column Overall Rank), feature/column mana saja yang sangat berkorelasi terhadap happiness score suatu negara? Hitung dengan metode korelasi yang tepat dan beri penjelasan (insight)!"
   ]
  },
  {
   "cell_type": "code",
   "execution_count": 27,
   "metadata": {},
   "outputs": [
    {
     "data": {
      "text/plain": [
       "Score                           1.000000\n",
       "GDP per capita                  0.793883\n",
       "Healthy life expectancy         0.779883\n",
       "Social support                  0.777058\n",
       "Freedom to make life choices    0.566742\n",
       "Perceptions of corruption       0.385613\n",
       "Generosity                      0.075824\n",
       "Name: Score, dtype: float64"
      ]
     },
     "execution_count": 27,
     "metadata": {},
     "output_type": "execute_result"
    }
   ],
   "source": [
    "dfnum.corr().abs()['Score'].sort_values(ascending = False)"
   ]
  },
  {
   "cell_type": "markdown",
   "metadata": {},
   "source": [
    "- yang mempengaruhi kebahagiaan suatu negara adalah GDP , HLE, Social support\n",
    "- semakin besar score fitur2 yg mempengaruhi kebahagiaan suatu negara "
   ]
  },
  {
   "cell_type": "code",
   "execution_count": null,
   "metadata": {},
   "outputs": [],
   "source": []
  }
 ],
 "metadata": {
  "kernelspec": {
   "display_name": "Python 3",
   "language": "python",
   "name": "python3"
  },
  "language_info": {
   "codemirror_mode": {
    "name": "ipython",
    "version": 3
   },
   "file_extension": ".py",
   "mimetype": "text/x-python",
   "name": "python",
   "nbconvert_exporter": "python",
   "pygments_lexer": "ipython3",
   "version": "3.7.4"
  }
 },
 "nbformat": 4,
 "nbformat_minor": 2
}
